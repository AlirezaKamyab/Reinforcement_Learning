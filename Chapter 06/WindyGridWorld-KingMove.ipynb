{
 "cells": [
  {
   "cell_type": "code",
   "execution_count": 1,
   "id": "5b936ac6-c71e-484a-a57f-6d488667ce9e",
   "metadata": {},
   "outputs": [],
   "source": [
    "from env.windy_gridworld import WindyGridWorld\n",
    "import numpy as np\n",
    "import matplotlib.pyplot as plt\n",
    "from tqdm import tqdm"
   ]
  },
  {
   "cell_type": "code",
   "execution_count": 50,
   "id": "bd4ed1a4-957b-4988-98ad-4cabd7ba1f1d",
   "metadata": {},
   "outputs": [],
   "source": [
    "ROWS = 7\n",
    "COLUMNS = 10\n",
    "WIND_LOC = [0, 0, 0, 1, 1, 1, 2, 2, 1, 0]\n",
    "# Tuples are row column\n",
    "TARGET_LOC = [3, 7]\n",
    "INIT_LOCATION = [3, 0]\n",
    "\n",
    "# Set up the environment\n",
    "env = WindyGridWorld(rows=ROWS, columns=COLUMNS, init_location=np.array(INIT_LOCATION), king_move=True)\n",
    "NUM_ACTIONS = int(env.action_space.n)\n",
    "env.target_location = np.array(TARGET_LOC)\n",
    "env.wind_location = np.array(WIND_LOC)"
   ]
  },
  {
   "cell_type": "code",
   "execution_count": 51,
   "id": "a460933a-5ef8-4462-a260-6b80184b390b",
   "metadata": {},
   "outputs": [],
   "source": [
    "# Define state-action value function\n",
    "Q = np.zeros(shape=(ROWS, COLUMNS, NUM_ACTIONS), dtype=np.float32)\n",
    "N = np.zeros_like(Q, dtype=np.float32)\n",
    "gamma = 1.0\n",
    "alpha = 0.5\n",
    "epsilon = 0.1\n",
    "episodes = 170\n",
    "global_steps = 0\n",
    "step_episode = []\n",
    "\n",
    "for episode in range(episodes):\n",
    "    state = env.reset()['agent']\n",
    "    terminated = False\n",
    "\n",
    "    if np.random.rand() < epsilon:\n",
    "        action = int(env.action_space.sample())\n",
    "    else:\n",
    "        action = np.argmax(Q[state[0], state[1]])\n",
    "\n",
    "    state_action = (state[0], state[1], action)\n",
    "\n",
    "    while not terminated:\n",
    "        observation, reward, terminated, _, _ = env.step(action)\n",
    "        new_state = observation['agent']\n",
    "\n",
    "        if np.random.rand() < epsilon:\n",
    "            new_action = int(env.action_space.sample())\n",
    "        else:\n",
    "            new_action = np.argmax(Q[new_state[0], new_state[1]])\n",
    "        \n",
    "        new_state_action = (new_state[0], new_state[1], new_action)\n",
    "        Q[*state_action] = Q[*state_action] + alpha * (reward + gamma * Q[*new_state_action] - Q[*state_action])\n",
    "        action = new_action\n",
    "        state_action = new_state_action\n",
    "        global_steps += 1\n",
    "        step_episode.append(episode)"
   ]
  },
  {
   "cell_type": "code",
   "execution_count": 52,
   "id": "ff8cba07-696a-4c0b-8b17-30d18b343561",
   "metadata": {},
   "outputs": [
    {
     "data": {
      "image/png": "[encoded data removed]",
      "text/plain": [
       "<Figure size 640x480 with 1 Axes>"
      ]
     },
     "metadata": {},
     "output_type": "display_data"
    }
   ],
   "source": [
    "fig = plt.figure()\n",
    "ax = plt.subplot(111)\n",
    "ax.plot(step_episode);\n",
    "ax.set_ylim([0, 170]);\n",
    "ax.set_yticks([0, 50, 100, 150, 170]);\n",
    "ax.set_xticks([x * 1000 for x in range(9)]);\n",
    "ax.set_ylabel('Episodes')\n",
    "ax.set_xlabel('Time steps');\n",
    "ax.grid(c='#eee')"
   ]
  },
  {
   "cell_type": "code",
   "execution_count": 56,
   "id": "d07c2706-5ee3-4b5b-8d85-d91489d8f2ad",
   "metadata": {},
   "outputs": [],
   "source": [
    "env.reset()\n",
    "policy = np.argmax(Q, axis=-1)\n",
    "state = np.array([3, 0])\n",
    "action = policy[state[0], state[1]]\n",
    "state_actions = [[state, action]]\n",
    "\n",
    "while not env.is_terminated():\n",
    "    observation, reward, terminated, _, _ = env.step(action)\n",
    "    state = observation['agent']\n",
    "    action = policy[state[0], state[1]]\n",
    "    state_actions.append([state, action])"
   ]
  },
  {
   "cell_type": "code",
   "execution_count": 67,
   "id": "ea832792-81ca-4bc9-a6fb-f79d56ab6085",
   "metadata": {},
   "outputs": [
    {
     "name": "stdout",
     "output_type": "stream",
     "text": [
      "0 >> 6\n",
      "1 >> 6\n",
      "2 >> 6\n",
      "3 >> 6\n",
      "4 >> 6\n",
      "5 >> 6\n",
      "6 >> 6\n",
      "7 >> 0\n"
     ]
    }
   ],
   "source": [
    "render = np.zeros(shape=(env.rows, env.columns))\n",
    "for i, sa in enumerate(state_actions):\n",
    "    state = sa[0]\n",
    "    render[state[0], state[1]] = i\n",
    "    print(i, '>>', sa[1])"
   ]
  },
  {
   "cell_type": "code",
   "execution_count": 66,
   "id": "27d919a3-c6c1-41d1-8d82-77ba4f0682f6",
   "metadata": {},
   "outputs": [
    {
     "data": {
      "text/plain": [
       "<matplotlib.image.AxesImage at 0x79be9ab37c50>"
      ]
     },
     "execution_count": 66,
     "metadata": {},
     "output_type": "execute_result"
    },
    {
     "data": {
      "image/png": "[encoded data removed]",
      "text/plain": [
       "<Figure size 685.714x480 with 1 Axes>"
      ]
     },
     "metadata": {},
     "output_type": "display_data"
    }
   ],
   "source": [
    "plt.matshow(render)"
   ]
  },
  {
   "cell_type": "code",
   "execution_count": null,
   "id": "7b9a2933-3bd3-4150-9eab-b1b2c76dc836",
   "metadata": {},
   "outputs": [],
   "source": []
  }
 ],
 "metadata": {
  "kernelspec": {
   "display_name": "Python 3 (ipykernel)",
   "language": "python",
   "name": "python3"
  },
  "language_info": {
   "codemirror_mode": {
    "name": "ipython",
    "version": 3
   },
   "file_extension": ".py",
   "mimetype": "text/x-python",
   "name": "python",
   "nbconvert_exporter": "python",
   "pygments_lexer": "ipython3",
   "version": "3.13.2"
  }
 },
 "nbformat": 4,
 "nbformat_minor": 5
}
