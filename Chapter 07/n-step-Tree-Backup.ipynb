{
 "cells": [
  {
   "cell_type": "code",
   "execution_count": 1,
   "id": "5b936ac6-c71e-484a-a57f-6d488667ce9e",
   "metadata": {},
   "outputs": [],
   "source": [
    "from env.windy_gridworld import WindyGridWorld\n",
    "import numpy as np"
   ]
  },
  {
   "cell_type": "code",
   "execution_count": 2,
   "id": "bd4ed1a4-957b-4988-98ad-4cabd7ba1f1d",
   "metadata": {},
   "outputs": [],
   "source": [
    "ROWS = 7\n",
    "COLUMNS = 10\n",
    "NUM_ACTIONS = 4\n",
    "WIND_LOC = [0, 0, 0, 1, 1, 1, 2, 2, 1, 0]\n",
    "# Tuples are row column\n",
    "TARGET_LOC = [3, 7]\n",
    "INIT_LOCATION = [3, 0]\n",
    "\n",
    "# Set up the environment\n",
    "env = WindyGridWorld(rows=ROWS, columns=COLUMNS, init_location=np.array(INIT_LOCATION))\n",
    "env.target_location = np.array(TARGET_LOC)\n",
    "env.wind_location = np.array(WIND_LOC)"
   ]
  },
  {
   "cell_type": "markdown",
   "id": "b652d7d9-c9e7-4b92-9228-6c89f7d4623b",
   "metadata": {},
   "source": [
    "## n-Step Tree Backup for estimating $Q \\approx q_*$ or $q_\\pi$"
   ]
  },
  {
   "cell_type": "code",
   "execution_count": 3,
   "id": "cc1b339e",
   "metadata": {},
   "outputs": [],
   "source": [
    "def n_step_tree_backup(\n",
    "        Q_init:np.ndarray,\n",
    "        policy:np.ndarray,\n",
    "        env:WindyGridWorld,\n",
    "        n:int=1,\n",
    "        episodes:int=1,\n",
    "        alpha=0.1,\n",
    "        gamma:float=1.0,\n",
    "):\n",
    "    Q = Q_init.copy()\n",
    "    policy = policy.copy()\n",
    "    memory = [{} for _ in range(n + 1)]\n",
    "    num_actions = Q.shape[-1]\n",
    "\n",
    "    for episode in range(episodes):\n",
    "        state = env.reset()['agent']\n",
    "        action = np.random.choice(num_actions)\n",
    "        memory[0]['state'] = state.tolist()\n",
    "        memory[0]['action'] = int(action)\n",
    "\n",
    "        T = np.inf\n",
    "        tau = 0\n",
    "        t = 0\n",
    "        while tau < T - 1:\n",
    "            if t < T:\n",
    "                state, action = memory[t % (n + 1)]['state'], memory[t % (n + 1)]['action']\n",
    "                feedback = env.step(action)\n",
    "                new_state = feedback[0]['agent'].tolist()\n",
    "                reward = feedback[1]\n",
    "                terminated = feedback[2]\n",
    "\n",
    "                memory[(t + 1) % (n + 1)]['state'] = new_state\n",
    "                memory[(t + 1) % (n + 1)]['reward'] = reward\n",
    "\n",
    "                if terminated:\n",
    "                    T = t + 1\n",
    "                else:\n",
    "                    new_action = np.random.choice(num_actions)\n",
    "                    memory[(t + 1) % (n + 1)]['action'] = int(new_action)\n",
    "            \n",
    "            tau = t + 1 - n\n",
    "            if tau >= 0:\n",
    "                G = 0\n",
    "                if t + 1 >= T:\n",
    "                    G = memory[(t + 1) % (n + 1)]['reward']\n",
    "                else:\n",
    "                    G = memory[(t + 1) % (n + 1)]['reward']\n",
    "                    state = memory[(t + 1) % (n + 1)]['state']\n",
    "\n",
    "                    for a in range(num_actions):\n",
    "                        state_action_pair = state + [a]\n",
    "                        G += gamma * policy[*state_action_pair] * Q[*state_action_pair]\n",
    "                \n",
    "                for k in reversed(range(tau + 1, min(t + 1, T))):\n",
    "                    reward_k = memory[k % (n + 1)]['reward']\n",
    "                    state_k = memory[k % (n + 1)]['state']\n",
    "                    action_taken = memory[k % (n + 1)]['action']\n",
    "\n",
    "                    expectation = 0\n",
    "                    for p in range(num_actions):\n",
    "                        state_action_pair_k = state_k + [p]\n",
    "                        if p == action_taken:\n",
    "                            expectation += policy[*state_action_pair_k] * G\n",
    "                        else:\n",
    "                            expectation += policy[*state_action_pair_k] * Q[*state_action_pair_k]\n",
    "\n",
    "                    G = reward_k + gamma * expectation\n",
    "                \n",
    "                state = memory[tau % (n + 1)]['state']\n",
    "                action = memory[tau % (n + 1)]['action']\n",
    "                state_action_pair = state + [action]\n",
    "                Q[*state_action_pair] += alpha * (G - Q[*state_action_pair])\n",
    "                # Make policy greedy with respect to Q\n",
    "                q_max = Q.max(axis=-1, keepdims=True).repeat(num_actions, axis=-1)\n",
    "                policy = np.isclose(Q, q_max).astype(np.float32)\n",
    "                policy = policy / policy.sum(axis=-1, keepdims=True)\n",
    "                # q_max = Q.argmax(axis=-1)\n",
    "                # policy = np.eye(num_actions)[q_max]\n",
    "            \n",
    "            t += 1\n",
    "        \n",
    "        print(f'\\rEpisode {episode:<6}', end='')\n",
    "        \n",
    "    return Q, policy"
   ]
  },
  {
   "cell_type": "code",
   "execution_count": 4,
   "id": "ec8938c8",
   "metadata": {},
   "outputs": [
    {
     "name": "stdout",
     "output_type": "stream",
     "text": [
      "Episode 99    "
     ]
    }
   ],
   "source": [
    "Q_init = np.zeros(shape=(ROWS, COLUMNS, NUM_ACTIONS), dtype=np.float32)\n",
    "n = 5\n",
    "episodes = 100\n",
    "policy = np.zeros((ROWS, COLUMNS, NUM_ACTIONS), dtype=np.float32)\n",
    "policy[:, :, :] = 1.0 / 4\n",
    "Q, policy = n_step_tree_backup(\n",
    "    Q_init=Q_init, \n",
    "    n=n, \n",
    "    episodes=episodes, \n",
    "    env=env, \n",
    "    policy=policy,\n",
    "    gamma=1.0,\n",
    "    alpha=0.4\n",
    ")"
   ]
  },
  {
   "cell_type": "code",
   "execution_count": 5,
   "id": "8c471ff5",
   "metadata": {},
   "outputs": [
    {
     "name": "stdout",
     "output_type": "stream",
     "text": [
      "1\n",
      "2\n",
      "3\n",
      "4\n",
      "5\n",
      "6\n",
      "7\n",
      "8\n",
      "9\n",
      "10\n",
      "11\n",
      "12\n",
      "13\n",
      "14\n",
      "15\n",
      "16\n",
      "17\n"
     ]
    }
   ],
   "source": [
    "state = env.reset()['agent'].tolist()\n",
    "step = 0\n",
    "while not env.is_terminated():\n",
    "    action = policy[*state].argmax()\n",
    "    feedback = env.step(action)\n",
    "    state = feedback[0]['agent']\n",
    "    step += 1\n",
    "    print(step)"
   ]
  }
 ],
 "metadata": {
  "kernelspec": {
   "display_name": "torch",
   "language": "python",
   "name": "python3"
  },
  "language_info": {
   "codemirror_mode": {
    "name": "ipython",
    "version": 3
   },
   "file_extension": ".py",
   "mimetype": "text/x-python",
   "name": "python",
   "nbconvert_exporter": "python",
   "pygments_lexer": "ipython3",
   "version": "3.13.2"
  }
 },
 "nbformat": 4,
 "nbformat_minor": 5
}
