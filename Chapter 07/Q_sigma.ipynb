{
 "cells": [
  {
   "cell_type": "code",
   "execution_count": 1,
   "id": "5b936ac6-c71e-484a-a57f-6d488667ce9e",
   "metadata": {},
   "outputs": [],
   "source": [
    "from env.windy_gridworld import WindyGridWorld\n",
    "import numpy as np"
   ]
  },
  {
   "cell_type": "code",
   "execution_count": 2,
   "id": "bd4ed1a4-957b-4988-98ad-4cabd7ba1f1d",
   "metadata": {},
   "outputs": [],
   "source": [
    "ROWS = 7\n",
    "COLUMNS = 10\n",
    "NUM_ACTIONS = 4\n",
    "WIND_LOC = [0, 0, 0, 1, 1, 1, 2, 2, 1, 0]\n",
    "# Tuples are row column\n",
    "TARGET_LOC = [3, 7]\n",
    "INIT_LOCATION = [3, 0]\n",
    "\n",
    "# Set up the environment\n",
    "env = WindyGridWorld(rows=ROWS, columns=COLUMNS, init_location=np.array(INIT_LOCATION))\n",
    "env.target_location = np.array(TARGET_LOC)\n",
    "env.wind_location = np.array(WIND_LOC)"
   ]
  },
  {
   "cell_type": "markdown",
   "id": "b652d7d9-c9e7-4b92-9228-6c89f7d4623b",
   "metadata": {},
   "source": [
    "## $Q(\\sigma)$ for estimating $Q \\approx q_*$ or $q_\\pi$"
   ]
  },
  {
   "cell_type": "code",
   "execution_count": 3,
   "id": "cc1b339e",
   "metadata": {},
   "outputs": [],
   "source": [
    "def n_step_tree_backup(\n",
    "        Q_init:np.ndarray,\n",
    "        sigma:np.ndarray,\n",
    "        policy:np.ndarray,\n",
    "        behaviour_policy: np.ndarray,\n",
    "        env:WindyGridWorld,\n",
    "        n:int=1,\n",
    "        episodes:int=1,\n",
    "        alpha=0.1,\n",
    "        gamma:float=1.0,\n",
    "        epsilon: float=0.1\n",
    "):\n",
    "    Q = Q_init.copy()\n",
    "    policy = policy.copy()\n",
    "    memory = [{} for _ in range(n + 1)]\n",
    "    num_actions = Q.shape[-1]\n",
    "\n",
    "    for episode in range(episodes):\n",
    "        state = env.reset()['agent'].tolist()\n",
    "        action = np.random.choice(num_actions, p=behaviour_policy[*state])\n",
    "        action = int(action)\n",
    "\n",
    "        memory[0]['state'] = state\n",
    "        memory[0]['action'] = action\n",
    "\n",
    "        t = 0\n",
    "        T = np.inf\n",
    "        tau = 0\n",
    "\n",
    "        while tau < T - 1:\n",
    "            if t < T:\n",
    "                # recall state and action\n",
    "                state = memory[t % (n + 1)]['state']\n",
    "                action = memory[t % (n + 1)]['action']\n",
    "\n",
    "                feedback = env.step(action)\n",
    "                new_state = feedback[0]['agent'].tolist()\n",
    "                reward = feedback[1]\n",
    "                terminated = feedback[2]\n",
    "\n",
    "                # Store new state and reward\n",
    "                memory[(t + 1) % (n + 1)]['state'] = new_state\n",
    "                memory[(t + 1) % (n + 1)]['reward'] = reward\n",
    "\n",
    "                if terminated:\n",
    "                    T = t + 1\n",
    "                else:\n",
    "                    new_action = np.random.choice(num_actions, p=behaviour_policy[*new_state])\n",
    "                    new_action = int(new_action)\n",
    "\n",
    "                    state_action_pair = new_state + [new_action]\n",
    "                    rho = policy[*state_action_pair] / behaviour_policy[*state_action_pair]\n",
    "                    memory[(t + 1) % (n + 1)]['action'] = new_action\n",
    "                    memory[(t + 1) % (n + 1)]['rho'] = rho\n",
    "                \n",
    "            tau = t + 1 - n\n",
    "            if tau >= 0:\n",
    "                G = 0\n",
    "                if t + 1 < T:\n",
    "                    state = memory[(t + 1) % (n + 1)]['state']\n",
    "                    action = memory[(t + 1) % (n + 1)]['action']\n",
    "                    G = Q[*(state + [action])]\n",
    "                \n",
    "                for k in reversed(range(tau + 1, min(t + 1, T) + 1)):\n",
    "                    state = memory[k % (n + 1)]['state']\n",
    "                    action = memory[k % (n + 1)]['action']\n",
    "                    state_action_pair = state + [action]\n",
    "                    reward = memory[k % (n + 1)]['reward']\n",
    "                    rho = memory[k % (n + 1)]['rho']\n",
    "                    sigma_k = sigma[*state]\n",
    "\n",
    "                    if k == T:\n",
    "                        G = memory[T % (n + 1)]['reward']\n",
    "                    else:\n",
    "                        V_bar = np.sum(Q[*state] * policy[*state])\n",
    "                        G = reward + gamma * (rho * sigma_k + (1 - sigma_k) * policy[*state_action_pair]) * (G - Q[*state_action_pair])\n",
    "                        G += gamma * V_bar\n",
    "                \n",
    "                state = memory[tau % (n + 1)]['state']\n",
    "                action = memory[tau % (n + 1)]['action']\n",
    "                Q[*state_action_pair] += alpha * (G - Q[*state_action_pair])\n",
    "\n",
    "                # Make the policy greedy\n",
    "                policy = Q.argmax(axis=-1)\n",
    "                policy = np.eye(num_actions)[policy].astype(np.float32)\n",
    "                behaviour_policy = (1 - policy) * (epsilon / num_actions) + policy * (1 - epsilon + epsilon / num_actions)\n",
    "            t = t + 1\n",
    "\n",
    "        print(f\"\\rEpisode {episode + 1:<5}\", end='')\n",
    "\n",
    "    return Q, policy"
   ]
  },
  {
   "cell_type": "code",
   "execution_count": 4,
   "id": "58801319",
   "metadata": {},
   "outputs": [
    {
     "name": "stdout",
     "output_type": "stream",
     "text": [
      "Episode 500  "
     ]
    }
   ],
   "source": [
    "Q_init = np.zeros(shape=(ROWS, COLUMNS, NUM_ACTIONS), dtype=np.float32)\n",
    "n = 3\n",
    "episodes = 500\n",
    "policy = np.zeros((ROWS, COLUMNS, NUM_ACTIONS), dtype=np.float32)\n",
    "policy[:, :, :] = 1.0 / 4\n",
    "behaviour_policy = policy.copy()\n",
    "sigma = np.zeros((ROWS, COLUMNS))\n",
    "sigma[::2, ::2] = 1\n",
    "Q, policy = n_step_tree_backup(\n",
    "    Q_init=Q_init, \n",
    "    behaviour_policy=behaviour_policy,\n",
    "    sigma=sigma,\n",
    "    n=n, \n",
    "    episodes=episodes, \n",
    "    env=env, \n",
    "    policy=policy,\n",
    "    gamma=1.0,\n",
    "    alpha=0.1\n",
    ")"
   ]
  },
  {
   "cell_type": "code",
   "execution_count": 5,
   "id": "8c471ff5",
   "metadata": {},
   "outputs": [
    {
     "name": "stdout",
     "output_type": "stream",
     "text": [
      "1\n",
      "2\n",
      "3\n",
      "4\n",
      "5\n",
      "6\n",
      "7\n",
      "8\n",
      "9\n",
      "10\n",
      "11\n",
      "12\n",
      "13\n",
      "14\n",
      "15\n",
      "16\n",
      "17\n"
     ]
    }
   ],
   "source": [
    "state = env.reset()['agent'].tolist()\n",
    "step = 0\n",
    "while not env.is_terminated():\n",
    "    action = policy[*state].argmax()\n",
    "    feedback = env.step(action)\n",
    "    state = feedback[0]['agent']\n",
    "    step += 1\n",
    "    print(step)"
   ]
  }
 ],
 "metadata": {
  "kernelspec": {
   "display_name": "torch",
   "language": "python",
   "name": "python3"
  },
  "language_info": {
   "codemirror_mode": {
    "name": "ipython",
    "version": 3
   },
   "file_extension": ".py",
   "mimetype": "text/x-python",
   "name": "python",
   "nbconvert_exporter": "python",
   "pygments_lexer": "ipython3",
   "version": "3.13.2"
  }
 },
 "nbformat": 4,
 "nbformat_minor": 5
}
