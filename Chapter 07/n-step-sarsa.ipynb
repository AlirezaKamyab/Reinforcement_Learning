{
 "cells": [
  {
   "cell_type": "code",
   "execution_count": 1,
   "id": "5b936ac6-c71e-484a-a57f-6d488667ce9e",
   "metadata": {},
   "outputs": [],
   "source": [
    "from env.windy_gridworld import WindyGridWorld\n",
    "import numpy as np"
   ]
  },
  {
   "cell_type": "code",
   "execution_count": 2,
   "id": "bd4ed1a4-957b-4988-98ad-4cabd7ba1f1d",
   "metadata": {},
   "outputs": [],
   "source": [
    "ROWS = 7\n",
    "COLUMNS = 10\n",
    "NUM_ACTIONS = 4\n",
    "WIND_LOC = [0, 0, 0, 1, 1, 1, 2, 2, 1, 0]\n",
    "# Tuples are row column\n",
    "TARGET_LOC = [3, 7]\n",
    "INIT_LOCATION = [3, 0]\n",
    "\n",
    "# Set up the environment\n",
    "env = WindyGridWorld(rows=ROWS, columns=COLUMNS, init_location=np.array(INIT_LOCATION))\n",
    "env.target_location = np.array(TARGET_LOC)\n",
    "env.wind_location = np.array(WIND_LOC)"
   ]
  },
  {
   "cell_type": "markdown",
   "id": "b652d7d9-c9e7-4b92-9228-6c89f7d4623b",
   "metadata": {},
   "source": [
    "## n-step SARSA"
   ]
  },
  {
   "cell_type": "code",
   "execution_count": 3,
   "id": "cc1b339e",
   "metadata": {},
   "outputs": [],
   "source": [
    "def n_step_sarsa(\n",
    "    Q_init:np.ndarray,\n",
    "    n:int,\n",
    "    episodes:int,\n",
    "    env:WindyGridWorld,\n",
    "    gamma:float=1.0,\n",
    "    alpha=0.1,\n",
    "    epsilon=0.1,\n",
    "):\n",
    "    Q = Q_init.copy()\n",
    "    memory = [{} for _ in range(n+1)]\n",
    "\n",
    "    for episode in range(episodes):\n",
    "        state = env.reset()['agent']\n",
    "        T = np.inf\n",
    "        memory[0]['state'] = state.tolist()\n",
    "\n",
    "        # Take an action for the first time\n",
    "        if np.random.rand() < epsilon:\n",
    "            action = int(env.action_space.sample())\n",
    "        else:\n",
    "            action = int(np.argmax(Q[*state]))\n",
    "        memory[0]['action'] = action\n",
    "        tau = 0\n",
    "        t = 0\n",
    "        while tau < T-1:\n",
    "            if t < T:\n",
    "                # Load the current state-action pair\n",
    "                action = memory[t % (n + 1)]['action']\n",
    "                state = memory[t % (n + 1)]['state']\n",
    "\n",
    "                feedback = env.step(action)\n",
    "                new_state = feedback[0]['agent']\n",
    "                reward = feedback[1]\n",
    "                terminated = feedback[2]\n",
    "\n",
    "                memory[(t + 1) % (n + 1)]['state'] = new_state.tolist()\n",
    "                memory[(t + 1) % (n + 1)]['reward'] = reward\n",
    "\n",
    "                if terminated:\n",
    "                    T = t + 1\n",
    "                else:\n",
    "                    # Take an action for the time step t+1\n",
    "                    if np.random.rand() < epsilon:\n",
    "                        new_action = int(env.action_space.sample())\n",
    "                    else:\n",
    "                        new_action = int(np.argmax(Q[*state]))\n",
    "                    \n",
    "                    memory[(t + 1) % (n + 1)]['action'] = new_action\n",
    "            \n",
    "            tau = t - n + 1\n",
    "            if tau >= 0:\n",
    "                G = 0\n",
    "                for i in range(tau + 1, min(tau + n + 1, T + 1)):\n",
    "                    G += (gamma ** i) * memory[i % (n + 1)]['reward']\n",
    "                \n",
    "                if tau + n < T:\n",
    "                    state = memory[(tau + n) % (n + 1)]['state']\n",
    "                    action = memory[(tau + n) % (n + 1)]['action']\n",
    "                    state_action_pair = state + [action]\n",
    "                    G += (gamma ** n) * Q[*state_action_pair]\n",
    "                \n",
    "                state = memory[tau % (n + 1)]['state']\n",
    "                action = memory[tau % (n + 1)]['action']\n",
    "                state_action_pair = state + [action]\n",
    "                Q[*state_action_pair] += alpha * (G - Q[*state_action_pair])\n",
    "            \n",
    "            t += 1\n",
    "\n",
    "    return Q"
   ]
  },
  {
   "cell_type": "code",
   "execution_count": 4,
   "id": "27e3cf2c",
   "metadata": {},
   "outputs": [],
   "source": [
    "Q_init = np.zeros(shape=(ROWS, COLUMNS, NUM_ACTIONS), dtype=np.float32)\n",
    "n = 10\n",
    "episodes = 10000\n",
    "Q = n_step_sarsa(Q_init=Q_init, n=n, episodes=episodes, env=env, epsilon=0.1, alpha=0.1)"
   ]
  }
 ],
 "metadata": {
  "kernelspec": {
   "display_name": "torch",
   "language": "python",
   "name": "python3"
  },
  "language_info": {
   "codemirror_mode": {
    "name": "ipython",
    "version": 3
   },
   "file_extension": ".py",
   "mimetype": "text/x-python",
   "name": "python",
   "nbconvert_exporter": "python",
   "pygments_lexer": "ipython3",
   "version": "3.13.2"
  }
 },
 "nbformat": 4,
 "nbformat_minor": 5
}
