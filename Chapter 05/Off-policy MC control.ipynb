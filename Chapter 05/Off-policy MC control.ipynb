{
 "cells": [
  {
   "cell_type": "markdown",
   "id": "5e18a79f-aae0-4e1c-b287-9db009115237",
   "metadata": {},
   "source": [
    "# Off-policy MC control for estimating $\\pi \\approx \\pi_*$"
   ]
  },
  {
   "cell_type": "code",
   "execution_count": 1,
   "id": "c552b3af-1cbe-4254-8abd-106ac12f305c",
   "metadata": {},
   "outputs": [],
   "source": [
    "import numpy as np\n",
    "import matplotlib.pyplot as plt"
   ]
  },
  {
   "cell_type": "code",
   "execution_count": 2,
   "id": "5f9d756e-4222-48b2-80e7-bd5cfae8331c",
   "metadata": {},
   "outputs": [],
   "source": [
    "track = \\\n",
    "\"\"\"\n",
    "****     F\n",
    "***      F\n",
    "***      F\n",
    "***   ****\n",
    "**    ****\n",
    "**    ****\n",
    "*     ****\n",
    "*SSSSS****\n",
    "\"\"\""
   ]
  },
  {
   "cell_type": "code",
   "execution_count": 3,
   "id": "af8bd482-3795-40dc-af47-b1eb6c032c43",
   "metadata": {},
   "outputs": [],
   "source": [
    "arr = []\n",
    "for line in track.split('\\n'):\n",
    "    if line == '': continue\n",
    "    temp = []\n",
    "    for c in line:\n",
    "        if c == ' ': temp.append(0)\n",
    "        if c == '*': temp.append(-1)\n",
    "        if c == 'S': temp.append(1)\n",
    "        if c == 'F': temp.append(2)\n",
    "    arr.append(temp)\n",
    "\n",
    "track = np.array(arr, dtype='int32')"
   ]
  },
  {
   "cell_type": "code",
   "execution_count": 88,
   "id": "2f8c3e65-f289-4742-829f-fdce2802b5ce",
   "metadata": {},
   "outputs": [],
   "source": [
    "class Racecar:\n",
    "    MAX_VELOCITY = 5\n",
    "    MAX_EPISODE_LENGTH = 100\n",
    "    def __init__(self, track):\n",
    "        self.track = track\n",
    "\n",
    "        self._s = []\n",
    "        for i in range(track.shape[0]):\n",
    "            for j in range(track.shape[1]):\n",
    "                if track[i][j] == 1:\n",
    "                    self._s.append((i, j))\n",
    "\n",
    "        self.reset()\n",
    "        self.action_set = [(i, j) for i in [0, 1, -1] for j in [0, 1, -1]]\n",
    "\n",
    "    \n",
    "    def step(self, action):\n",
    "        max_vert, max_horiz = self.track.shape\n",
    "        Vx, Vy = self.state[2] + action[0], self.state[3] + action[1]\n",
    "        if Vx > self.MAX_VELOCITY: Vx = MAX_VELOCITY\n",
    "        if Vy > self.MAX_VELOCITY: Vy = MAX_VELOCITY\n",
    "        if Vx < 0: Vx = 0\n",
    "        if Vy < 0: Vy = 0\n",
    "        if Vx == 0 and Vy == 0: \n",
    "            Vx, Vy = 1, 1\n",
    "            \n",
    "        self.state[2] = Vx\n",
    "        self.state[3] = Vy\n",
    "\n",
    "        self.state[0] -= Vy\n",
    "        self.state[1] += Vx\n",
    "\n",
    "        if self.state[0] < 0 or self.state[1] >= max_horiz or self.track[self.state[0], self.state[1]] == -1:\n",
    "            self.reset()\n",
    "        elif self.track[self.state[0], self.state[1]] == 2:\n",
    "            return 1, self.state\n",
    "\n",
    "        return -1, self.state\n",
    "\n",
    "\n",
    "    def generate_episodes(self, policy):\n",
    "        episode = []\n",
    "        self.reset()\n",
    "        action = policy[self.state[0], self.state[1], self.state[2], self.state[3]]\n",
    "        action = self.action_set[action]\n",
    "        episode.append(['NO REWARD', self.state.copy(), action]) # first time step\n",
    "\n",
    "        for i in range(self.MAX_EPISODE_LENGTH - 1):\n",
    "            reward, new_state = self.step(action)\n",
    "            action = policy[self.state[0], self.state[1], self.state[2], self.state[3]]\n",
    "            action = self.action_set[action]\n",
    "            if reward == 1:\n",
    "                episode.append([reward, new_state.copy(), 'NO ACTION']) # terminal state\n",
    "                return episode\n",
    "            episode.append([reward, new_state.copy(), action])\n",
    "        return episode\n",
    "            \n",
    "        \n",
    "    def display(self):\n",
    "        pos_h, pos_v = self.state[0], self.state[1]\n",
    "        cp = self.track.copy()\n",
    "        cp[pos_h, pos_v] = 4\n",
    "        fig = plt.figure()\n",
    "        ax = plt.subplot(111)\n",
    "        ax.imshow(cp, cmap='inferno')\n",
    "        ax.set_title('Track')\n",
    "        \n",
    "    def reset(self):\n",
    "        self.state = np.zeros((4,), dtype='int32') # vert, horiz, Vx, Vy\n",
    "        istart = np.random.choice(len(self._s))\n",
    "        self.state[0], self.state[1] = self._s[istart]"
   ]
  },
  {
   "cell_type": "code",
   "execution_count": 89,
   "id": "600fa825-4408-47fc-9864-4c5ffe383eb0",
   "metadata": {},
   "outputs": [],
   "source": [
    "r = Racecar(track)"
   ]
  },
  {
   "cell_type": "code",
   "execution_count": 90,
   "id": "4a298a26-f9f3-4f4e-ad39-5b36fbb424c1",
   "metadata": {},
   "outputs": [],
   "source": [
    "while True:\n",
    "    policy = np.random.randint(0, len(r.action_set), track.shape[0] * track.shape[1] * 36).reshape((track.shape[0], track.shape[1], 6, 6))\n",
    "    episodes = r.generate_episodes(policy)\n",
    "    if len(episodes) < 100: break"
   ]
  },
  {
   "cell_type": "code",
   "execution_count": 91,
   "id": "c96e3da3-5fee-4dd1-856e-e304b3103ecb",
   "metadata": {},
   "outputs": [
    {
     "data": {
      "image/png": "[encoded data removed]",
      "text/plain": [
       "<Figure size 1000x1000 with 12 Axes>"
      ]
     },
     "metadata": {},
     "output_type": "display_data"
    }
   ],
   "source": [
    "fig = plt.figure(figsize=(10, 10))\n",
    "cnt = 1\n",
    "for ep in episodes:\n",
    "    _, s, a = ep\n",
    "    pos_vert, pos_horiz = s[0], s[1]\n",
    "    t = r.track.copy()\n",
    "    t[pos_vert, pos_horiz] = 4\n",
    "    ax = plt.subplot(10, 10, cnt)\n",
    "    ax.imshow(t, cmap='inferno')\n",
    "    ax.axis('off')\n",
    "    cnt += 1"
   ]
  },
  {
   "cell_type": "code",
   "execution_count": 92,
   "id": "bbebe809-59b4-46b5-8d67-d467b04bdc6a",
   "metadata": {},
   "outputs": [],
   "source": [
    "def off_policy_mc(track, episodes=100000):\n",
    "    env = Racecar(track)\n",
    "    num_actions = len(env.action_set)\n",
    "    max_vert, max_horiz = track.shape\n",
    "    Q = np.zeros((max_vert, max_horiz, env.MAX_VELOCITY + 1, env.MAX_VELOCITY + 1, num_actions))\n",
    "    C = np.zeros((max_vert, max_horiz, env.MAX_VELOCITY + 1, env.MAX_VELOCITY + 1, num_actions))\n",
    "    policy = np.zeros((max_vert, max_horiz, env.MAX_VELOCITY + 1, env.MAX_VELOCITY + 1))\n",
    "\n",
    "    for episode in range(episodes):\n",
    "        ep = env.generate_episodes()"
   ]
  },
  {
   "cell_type": "code",
   "execution_count": 93,
   "id": "11a7c260-d71c-4322-ba37-8f447ee72a98",
   "metadata": {},
   "outputs": [
    {
     "name": "stdout",
     "output_type": "stream",
     "text": [
      "9\n"
     ]
    }
   ],
   "source": [
    "off_policy_mc(track)"
   ]
  },
  {
   "cell_type": "code",
   "execution_count": null,
   "id": "4cbc9506-1a2a-4371-8764-fac9b01f71f3",
   "metadata": {},
   "outputs": [],
   "source": []
  }
 ],
 "metadata": {
  "kernelspec": {
   "display_name": "Python 3 (ipykernel)",
   "language": "python",
   "name": "python3"
  },
  "language_info": {
   "codemirror_mode": {
    "name": "ipython",
    "version": 3
   },
   "file_extension": ".py",
   "mimetype": "text/x-python",
   "name": "python",
   "nbconvert_exporter": "python",
   "pygments_lexer": "ipython3",
   "version": "3.11.5"
  }
 },
 "nbformat": 4,
 "nbformat_minor": 5
}
