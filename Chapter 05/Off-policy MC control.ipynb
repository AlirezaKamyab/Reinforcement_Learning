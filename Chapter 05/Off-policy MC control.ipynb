{
 "cells": [
  {
   "cell_type": "markdown",
   "id": "5e18a79f-aae0-4e1c-b287-9db009115237",
   "metadata": {},
   "source": [
    "# Off-policy MC control for estimating $\\pi \\approx \\pi_*$"
   ]
  },
  {
   "cell_type": "code",
   "execution_count": 11,
   "id": "c552b3af-1cbe-4254-8abd-106ac12f305c",
   "metadata": {},
   "outputs": [
    {
     "data": {
      "image/png": "[encoded data removed]",
      "text/plain": [
       "<Figure size 800x800 with 1 Axes>"
      ]
     },
     "metadata": {},
     "output_type": "display_data"
    }
   ],
   "source": [
    "import numpy as np\n",
    "import matplotlib.pyplot as plt\n",
    "\n",
    "def generate_track(size=(10, 10), start_line=(0, 0), finish_line=(9, 9), num_obstacles=10):\n",
    "    track = np.zeros(size, dtype=int)  # Initialize track grid\n",
    "\n",
    "    # Set start and finish line\n",
    "    track[start_line] = 1\n",
    "    track[finish_line] = 2\n",
    "\n",
    "    # Add obstacles randomly\n",
    "    for _ in range(num_obstacles):\n",
    "        x = np.random.randint(0, size[0])\n",
    "        y = np.random.randint(0, size[1])\n",
    "        if (x, y) != start_line and (x, y) != finish_line:\n",
    "            track[x, y] = -1\n",
    "\n",
    "    return track\n",
    "\n",
    "def visualize_track(track):\n",
    "    plt.figure(figsize=(8, 8))\n",
    "    plt.imshow(track, cmap='inferno', origin='lower', interpolation='none')\n",
    "    plt.title('Racetrack')\n",
    "    plt.xlabel('X')\n",
    "    plt.ylabel('Y')\n",
    "    plt.show()\n",
    "\n",
    "# Example usage\n",
    "track_size = (10, 10)\n",
    "start_line = (0, 0)\n",
    "finish_line = (9, 9)\n",
    "num_obstacles = 25\n",
    "\n",
    "track = generate_track(track_size, start_line, finish_line, num_obstacles)\n",
    "visualize_track(track)\n"
   ]
  },
  {
   "cell_type": "code",
   "execution_count": 14,
   "id": "5f9d756e-4222-48b2-80e7-bd5cfae8331c",
   "metadata": {},
   "outputs": [
    {
     "data": {
      "text/plain": [
       "array([[ 1, -1,  0,  0,  0,  0, -1,  0,  0,  0],\n",
       "       [ 0,  0,  0,  0,  0,  0, -1, -1,  0,  0],\n",
       "       [ 0,  0,  0,  0,  0, -1, -1, -1,  0, -1],\n",
       "       [ 0,  0,  0, -1,  0, -1,  0,  0,  0,  0],\n",
       "       [ 0,  0,  0,  0,  0,  0,  0,  0,  0,  0],\n",
       "       [ 0, -1,  0, -1, -1,  0,  0,  0,  0,  0],\n",
       "       [ 0,  0,  0,  0,  0,  0,  0, -1,  0,  0],\n",
       "       [-1,  0, -1,  0, -1,  0, -1,  0,  0,  0],\n",
       "       [ 0,  0, -1, -1, -1,  0,  0,  0,  0,  0],\n",
       "       [ 0,  0,  0,  0,  0, -1,  0,  0,  0,  2]])"
      ]
     },
     "execution_count": 14,
     "metadata": {},
     "output_type": "execute_result"
    }
   ],
   "source": [
    "track"
   ]
  },
  {
   "cell_type": "code",
   "execution_count": 13,
   "id": "2f8c3e65-f289-4742-829f-fdce2802b5ce",
   "metadata": {},
   "outputs": [],
   "source": [
    "class Racecar:\n",
    "    def __init__(self, size=(10, 10), start_line=(0, 0), finish_line=(9, 9), num_obstacles=10):\n",
    "        __generate_track(size, start_line, finish_line, num_obstacles)\n",
    "\n",
    "    def __generate_track(self, size=(10, 10), start_line=(0, 0), finish_line=(9, 9), num_obstacles=10):\n",
    "        track = np.zeros(size, dtype='int32')\n",
    "    \n",
    "        track[start_line] = 1\n",
    "        track[finish_line] = 2\n",
    "    \n",
    "        for _ in range(num_obstacles):\n",
    "            x = np.random.randint(0, size[0])\n",
    "            y = np.random.randint(0, size[1])\n",
    "            if (x, y) != start_line and (x, y) != finish_line:\n",
    "                track[x, y] = -1\n",
    "    \n",
    "        self.track = track\n",
    "\n",
    "    def reset(self):\n",
    "        state = np.zeros((3, 3))"
   ]
  },
  {
   "cell_type": "code",
   "execution_count": null,
   "id": "c3a6dff2-7783-431b-b4fa-ab2da3e23e18",
   "metadata": {},
   "outputs": [],
   "source": []
  }
 ],
 "metadata": {
  "kernelspec": {
   "display_name": "Python 3 (ipykernel)",
   "language": "python",
   "name": "python3"
  },
  "language_info": {
   "codemirror_mode": {
    "name": "ipython",
    "version": 3
   },
   "file_extension": ".py",
   "mimetype": "text/x-python",
   "name": "python",
   "nbconvert_exporter": "python",
   "pygments_lexer": "ipython3",
   "version": "3.11.5"
  }
 },
 "nbformat": 4,
 "nbformat_minor": 5
}
