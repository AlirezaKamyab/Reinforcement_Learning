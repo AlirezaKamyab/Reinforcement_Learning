{
 "cells": [
  {
   "cell_type": "markdown",
   "id": "5e18a79f-aae0-4e1c-b287-9db009115237",
   "metadata": {},
   "source": [
    "# Off-policy MC control for estimating $\\pi \\approx \\pi_*$"
   ]
  },
  {
   "cell_type": "code",
   "execution_count": 1,
   "id": "c552b3af-1cbe-4254-8abd-106ac12f305c",
   "metadata": {},
   "outputs": [],
   "source": [
    "import numpy as np\n",
    "import matplotlib.pyplot as plt"
   ]
  },
  {
   "cell_type": "code",
   "execution_count": 2,
   "id": "5f9d756e-4222-48b2-80e7-bd5cfae8331c",
   "metadata": {},
   "outputs": [],
   "source": [
    "track = \\\n",
    "\"\"\"\n",
    "********************\n",
    "****###############F\n",
    "******#############F\n",
    "*******############F\n",
    "****#########*******\n",
    "*********####*******\n",
    "*********####*******\n",
    "*******######*******\n",
    "*******######*******\n",
    "*********####*******\n",
    "*********####*******\n",
    "*******######*******\n",
    "*******######*******\n",
    "****###########*****\n",
    "***############*****\n",
    "****###########*****\n",
    "***############*****\n",
    "**#############*****\n",
    "**SSSSSSS***********\n",
    "\"\"\""
   ]
  },
  {
   "cell_type": "code",
   "execution_count": 3,
   "id": "af8bd482-3795-40dc-af47-b1eb6c032c43",
   "metadata": {},
   "outputs": [],
   "source": [
    "arr = []\n",
    "for line in track.split('\\n'):\n",
    "    if line == '': continue\n",
    "    temp = []\n",
    "    for c in line:\n",
    "        if c == '#': temp.append(0)\n",
    "        if c == '*': temp.append(-1)\n",
    "        if c == 'S': temp.append(1)\n",
    "        if c == 'F': temp.append(2)\n",
    "    arr.append(temp)\n",
    "\n",
    "track = np.array(arr, dtype='int32')"
   ]
  },
  {
   "cell_type": "code",
   "execution_count": 4,
   "id": "f6f6f5ac-dbbf-42c7-818f-57f0c93d2633",
   "metadata": {},
   "outputs": [
    {
     "data": {
      "text/plain": [
       "<matplotlib.image.AxesImage at 0x7f7b5cb013d0>"
      ]
     },
     "execution_count": 4,
     "metadata": {},
     "output_type": "execute_result"
    },
    {
     "data": {
      "image/png": "[encoded data removed]",
      "text/plain": [
       "<Figure size 640x480 with 1 Axes>"
      ]
     },
     "metadata": {},
     "output_type": "display_data"
    }
   ],
   "source": [
    "plt.imshow(track)"
   ]
  },
  {
   "cell_type": "code",
   "execution_count": 5,
   "id": "2f8c3e65-f289-4742-829f-fdce2802b5ce",
   "metadata": {},
   "outputs": [],
   "source": [
    "class Racecar:\n",
    "    MAX_VELOCITY = 5\n",
    "    def __init__(self, track):\n",
    "        self.track = track\n",
    "\n",
    "        self._s = []\n",
    "        for i in range(track.shape[0]):\n",
    "            for j in range(track.shape[1]):\n",
    "                if track[i][j] == 1:\n",
    "                    self._s.append((i, j))\n",
    "\n",
    "        self.reset()\n",
    "        self.action_set = [(i, j) for i in [0, 1, -1] for j in [0, 1, -1]]\n",
    "\n",
    "    \n",
    "    def step(self, action):\n",
    "        max_vert, max_horiz = self.track.shape\n",
    "        # With prob=0.1, increments are zero\n",
    "        if np.random.rand() < 0.1:\n",
    "            action = (0, 0)\n",
    "            \n",
    "        Vx, Vy = self.state[2] + action[0], self.state[3] + action[1]\n",
    "        if Vx > self.MAX_VELOCITY: Vx = self.MAX_VELOCITY\n",
    "        if Vy > self.MAX_VELOCITY: Vy = self.MAX_VELOCITY\n",
    "        if Vx < 0: Vx = 0\n",
    "        if Vy < 0: Vy = 0\n",
    "        if Vx == 0 and Vy == 0: \n",
    "            Vx, Vy = 1, 1\n",
    "            \n",
    "        self.state[2] = Vx\n",
    "        self.state[3] = Vy\n",
    "\n",
    "        self.state[0] -= Vy\n",
    "        self.state[1] += Vx\n",
    "\n",
    "        if self.state[0] < 0 or self.state[1] >= max_horiz or self.track[self.state[0], self.state[1]] == -1:\n",
    "            self.reset()\n",
    "        elif self.track[self.state[0], self.state[1]] == 2:\n",
    "            return 1, self.state\n",
    "\n",
    "        return -1, self.state\n",
    "\n",
    "\n",
    "    def generate_episodes(self, policy):\n",
    "        episode = []\n",
    "        self.reset()\n",
    "        iaction, prob = policy(self.state)\n",
    "        action = self.action_set[iaction]\n",
    "        episode.append(['NO REWARD', self.state.copy(), iaction, prob]) # first time step\n",
    "\n",
    "        while True:\n",
    "            reward, new_state = self.step(action)\n",
    "            iaction, prob = policy(self.state)\n",
    "            action = self.action_set[iaction]\n",
    "            if reward == 1:\n",
    "                episode.append([reward, new_state.copy(), 'NO ACTION', 0]) # terminal state\n",
    "                return episode\n",
    "            episode.append([reward, new_state.copy(), iaction, prob])\n",
    "            \n",
    "        \n",
    "    def generate_and_display(self):\n",
    "        pos_h, pos_v = self.state[0], self.state[1]\n",
    "        cp = self.track.copy()\n",
    "        cp[pos_h, pos_v] = 4\n",
    "        fig = plt.figure()\n",
    "        ax = plt.subplot(111)\n",
    "        ax.imshow(cp, cmap='inferno')\n",
    "        ax.set_title('Track')\n",
    "        \n",
    "    def reset(self):\n",
    "        self.state = np.zeros((4,), dtype='int32') # vert, horiz, Vx, Vy\n",
    "        istart = np.random.choice(len(self._s))\n",
    "        self.state[0], self.state[1] = self._s[istart]"
   ]
  },
  {
   "cell_type": "markdown",
   "id": "c6d383fa-2b24-4f45-9ad8-5003719ae5c1",
   "metadata": {},
   "source": [
    "Epsilon-soft policy, is a policy where $\\pi(a|S_t) \\ge \\frac{\\epsilon}{|A(S_t)|}$ but it can be defined as\n",
    "$$\n",
    "\\begin{equation}\n",
    "    \\pi(a|S_t) = \n",
    "    \\begin{cases}\n",
    "        \\frac{\\epsilon}{|A(S_t)|} & \\text{if}\\ a \\ne A^*\\\\\n",
    "        1 - \\epsilon + \\frac{\\epsilon}{|A(S_t)|} & \\text{if}\\ a = A^*\\\\\n",
    "    \\end{cases}\n",
    "\\end{equation}\n",
    "$$"
   ]
  },
  {
   "cell_type": "code",
   "execution_count": 6,
   "id": "092b330c-4a36-4085-8fdd-a8d789282d93",
   "metadata": {},
   "outputs": [],
   "source": [
    "def epsilon_soft(target, num_actions, epsilon=0.1):\n",
    "    def behaviour_policy(state):\n",
    "        prob = np.random.rand()\n",
    "        greedy_action = action = target[state[0], state[1], state[2], state[3]]\n",
    "        if prob < epsilon:\n",
    "            action = np.random.choice(num_actions)\n",
    "            pi = epsilon / num_actions\n",
    "            if action == greedy_action: pi += 1 - epsilon\n",
    "            return action, pi\n",
    "        else:\n",
    "            action = greedy_action\n",
    "            pi = 1 - epsilon + epsilon / num_actions\n",
    "            return action, pi\n",
    "    return behaviour_policy"
   ]
  },
  {
   "cell_type": "code",
   "execution_count": 7,
   "id": "bbebe809-59b4-46b5-8d67-d467b04bdc6a",
   "metadata": {},
   "outputs": [],
   "source": [
    "def off_policy_mc(track, episodes=10000, gamma=1.0, epsilon=0.1, Q=None):\n",
    "    env = Racecar(track)\n",
    "    num_actions = len(env.action_set)\n",
    "    max_vert, max_horiz = track.shape\n",
    "    if Q is None:\n",
    "        Q = np.random.randn(max_vert, max_horiz, env.MAX_VELOCITY + 1, env.MAX_VELOCITY + 1, num_actions) - 1000\n",
    "    policy = np.argmax(Q, axis=-1)\n",
    "    C = np.zeros((max_vert, max_horiz, env.MAX_VELOCITY + 1, env.MAX_VELOCITY + 1, num_actions), dtype='float64')\n",
    "\n",
    "    reward_hist = []\n",
    "\n",
    "    for episode in range(episodes):\n",
    "        # behaviour = np.random.dirichlet(np.ones(num_actions), size=(max_vert, max_horiz, env.MAX_VELOCITY + 1, env.MAX_VELOCITY + 1))\n",
    "        behaviour = epsilon_soft(policy, num_actions, epsilon)\n",
    "        ep = env.generate_episodes(behaviour)\n",
    "        reward_hist.append(sum([x[0] for x in ep[1:]])) # summation of the rewards until termination\n",
    "        G = 0.0\n",
    "        W = 1.0\n",
    "        for t in reversed(range(len(ep) - 1)):\n",
    "            reward = ep[t + 1][0]\n",
    "            state = ep[t][1]\n",
    "            action = ep[t][2]\n",
    "            prob = ep[t][-1]\n",
    "            G = reward + gamma * G\n",
    "            C[state[0], state[1], state[2], state[3], action] += W\n",
    "            Q[state[0], state[1], state[2], state[3], action] += (W / C[state[0], state[1], state[2], state[3], action]) * (G - Q[state[0], state[1], state[2], state[3], action])\n",
    "            policy[state[0], state[1], state[2], state[3]] = np.argmax(Q[state[0], state[1], state[2], state[3]])\n",
    "            if action != policy[state[0], state[1], state[2], state[3]]: break\n",
    "            W = W * (1 / prob)\n",
    "\n",
    "        print(f'\\rEpisode: {episode + 1 : > 6} REWARD: {reward_hist[-1] : > 5}', end='')\n",
    "\n",
    "    return policy, Q, reward_hist"
   ]
  },
  {
   "cell_type": "code",
   "execution_count": 8,
   "id": "4cbc9506-1a2a-4371-8764-fac9b01f71f3",
   "metadata": {},
   "outputs": [
    {
     "name": "stdout",
     "output_type": "stream",
     "text": [
      "Episode:  10000000 AVG:   -14"
     ]
    }
   ],
   "source": [
    "policy, Q, reward_hist = off_policy_mc(track, episodes=10_000_000)"
   ]
  },
  {
   "cell_type": "code",
   "execution_count": 9,
   "id": "d6c0e3dd-7092-4ff3-818b-d284fa35c1d1",
   "metadata": {},
   "outputs": [
    {
     "data": {
      "image/png": "[encoded data removed]",
      "text/plain": [
       "<Figure size 2000x2000 with 10 Axes>"
      ]
     },
     "metadata": {},
     "output_type": "display_data"
    }
   ],
   "source": [
    "env = Racecar(track)\n",
    "num_actions = len(env.action_set)\n",
    "general_policy = epsilon_soft(policy, num_actions, epsilon=0.0)\n",
    "ep = env.generate_episodes(general_policy)\n",
    "\n",
    "fig = plt.figure(figsize=(20, 20))\n",
    "cnt = 1\n",
    "for e in ep:\n",
    "    _, s, a, p = e\n",
    "    pos_vert, pos_horiz = s[0], s[1]\n",
    "    t = env.track.copy()\n",
    "    t[pos_vert, pos_horiz] = 4\n",
    "    ax = plt.subplot(8, 8, cnt)\n",
    "    ax.grid(c='white')\n",
    "    ax.imshow(t, cmap='inferno')\n",
    "    ax.axis('off')\n",
    "    cnt += 1"
   ]
  },
  {
   "cell_type": "code",
   "execution_count": 10,
   "id": "28373920-84c6-408f-a58d-c11022384780",
   "metadata": {},
   "outputs": [],
   "source": [
    "def plot_history(reward_history):\n",
    "    fig = plt.figure()\n",
    "    fontdict = {'fontsize': 11, 'fontweight': 'bold'}\n",
    "    ax = plt.subplot(111)\n",
    "    ax.set_title('Reward per episode', fontdict=fontdict)\n",
    "    ax.set_xlabel('episode', fontdict=fontdict)\n",
    "    ax.set_ylabel('reward', fontdict=fontdict)\n",
    "    ax.semilogx(range(len(reward_history)), reward_history)\n",
    "    ax.grid(c='lightgray')\n",
    "    ax.set_ylim(ymin=-1000, ymax=1)\n",
    "    ax.margins(0.01)"
   ]
  },
  {
   "cell_type": "code",
   "execution_count": 11,
   "id": "c6c77c68-3f18-43da-829c-873d73541197",
   "metadata": {},
   "outputs": [
    {
     "data": {
      "image/png": "[encoded data removed]",
      "text/plain": [
       "<Figure size 640x480 with 1 Axes>"
      ]
     },
     "metadata": {},
     "output_type": "display_data"
    }
   ],
   "source": [
    "plot_history(reward_hist)"
   ]
  },
  {
   "cell_type": "code",
   "execution_count": null,
   "id": "6ebd5e22-8746-442d-824b-daea7c22b92d",
   "metadata": {},
   "outputs": [],
   "source": []
  }
 ],
 "metadata": {
  "kernelspec": {
   "display_name": "Python 3 (ipykernel)",
   "language": "python",
   "name": "python3"
  },
  "language_info": {
   "codemirror_mode": {
    "name": "ipython",
    "version": 3
   },
   "file_extension": ".py",
   "mimetype": "text/x-python",
   "name": "python",
   "nbconvert_exporter": "python",
   "pygments_lexer": "ipython3",
   "version": "3.11.5"
  }
 },
 "nbformat": 4,
 "nbformat_minor": 5
}
