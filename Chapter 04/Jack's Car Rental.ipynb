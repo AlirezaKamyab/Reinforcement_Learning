{
 "cells": [
  {
   "cell_type": "markdown",
   "id": "42bf2f01-ebbe-4e78-9296-07bc8a35dea4",
   "metadata": {},
   "source": [
    "# Jack's Car Rental"
   ]
  },
  {
   "cell_type": "code",
   "execution_count": 1,
   "id": "502257b2-7741-4ca1-a4a2-d15276c4ef45",
   "metadata": {},
   "outputs": [],
   "source": [
    "import numpy as np\n",
    "from math import *\n",
    "import matplotlib.pyplot as plt"
   ]
  },
  {
   "cell_type": "code",
   "execution_count": 2,
   "id": "d1c29055-a430-4cb5-bdbc-5572f51caa1d",
   "metadata": {},
   "outputs": [],
   "source": [
    "MAX_CARS = 20\n",
    "MAX_MOVE_OF_CARS = 5\n",
    "EXPECTED_FIRST_LOC_REQUESTS = 3\n",
    "EXPECTED_SECOND_LOC_REQUESTS = 4\n",
    "EXPECTED_FIRST_LOC_RETURNS = 3\n",
    "EXPECTED_SECOND_LOC_RETURNS = 2\n",
    "DISCOUNT_RATE = 0.9\n",
    "RENTAL_CREDIT = 10\n",
    "COST_OF_MOVING = 2\n",
    "\n",
    "POISSON_UPPER_BOUND = 21"
   ]
  },
  {
   "cell_type": "code",
   "execution_count": 3,
   "id": "c3794165-d472-4d27-9978-aca94494a10f",
   "metadata": {},
   "outputs": [],
   "source": [
    "# all of the state-pairs possible (i, j) for \"i\" showing the number of cars at location1, and \"j\" for location2\n",
    "states = [(i, j) for i in range(MAX_CARS + 1) for j in range(MAX_CARS + 1)]\n",
    "# every possible actions could be done\n",
    "actions = np.arange(-MAX_MOVE_OF_CARS, MAX_MOVE_OF_CARS + 1)"
   ]
  },
  {
   "cell_type": "code",
   "execution_count": 4,
   "id": "21a90145-e7fc-45c2-b856-a2a5aad6306a",
   "metadata": {},
   "outputs": [],
   "source": [
    "# Calculate poisson distribution\n",
    "pBackup = dict()\n",
    "\n",
    "def poisson(x, lam):\n",
    "    global pBackup\n",
    "    key = x * 10 + lam\n",
    "    if key not in pBackup:\n",
    "        pBackup[key] = np.exp(-lam) * pow(lam, x) / factorial(x)\n",
    "    return pBackup[key]"
   ]
  },
  {
   "cell_type": "code",
   "execution_count": 5,
   "id": "9c9ab6dd-f13d-4b91-ae3b-01176d7d1164",
   "metadata": {},
   "outputs": [],
   "source": [
    "def expected_return(state, action, state_value, constant_return=False):\n",
    "    \"\"\"\n",
    "    args:\n",
    "        state:            [# number of cars at first location, number of cars at second location]\n",
    "        action:           # number of cars to move from location1 to  location2 (if negative it is vise-vera)\n",
    "        state_value:      evaluated state_value function that maps each state to the expected return\n",
    "        constant_return:  if True, returning car is not with respect to poission random variable\n",
    "    returns:\n",
    "        q(s, a) - this is same as action_value function\n",
    "    \"\"\"\n",
    "    # initializes the return\n",
    "    returns = 0.0\n",
    "    # calculates cost of action that is done (cost of moving cars)\n",
    "    returns -= COST_OF_MOVING * abs(action)\n",
    "    # moving cars\n",
    "    NUM_CARS_FIRST_LOC = min(state[0] - action, MAX_CARS)\n",
    "    NUM_CARS_SECOND_LOC = min(state[1] + action, MAX_CARS)\n",
    "\n",
    "    # all possiblities that environment could rent and return\n",
    "    for rent_first_loc in range(POISSON_UPPER_BOUND):\n",
    "        for rent_second_loc in range(POISSON_UPPER_BOUND):\n",
    "            # validating rental request: each request to rent out a car should be less than or equal to the number of the cars at each loc\n",
    "            if rent_first_loc > NUM_CARS_FIRST_LOC or rent_second_loc > NUM_CARS_SECOND_LOC: \n",
    "                continue\n",
    "            # probability of these particular rental request happening\n",
    "            rental_prob = poisson(rent_first_loc, EXPECTED_FIRST_LOC_REQUESTS) * \\\n",
    "                            poisson(rent_second_loc, EXPECTED_SECOND_LOC_REQUESTS)\n",
    "\n",
    "            current_num_cars_loc1 = NUM_CARS_FIRST_LOC\n",
    "            current_num_cars_loc2 = NUM_CARS_SECOND_LOC\n",
    "\n",
    "            # credit for renting out cars\n",
    "            reward = (rent_first_loc + rent_second_loc) * RENTAL_CREDIT\n",
    "\n",
    "            # updating the number of cars at each location after renting out cars\n",
    "            current_num_cars_loc1 -= rent_first_loc\n",
    "            current_num_cars_loc2 -= rent_second_loc\n",
    "\n",
    "            if constant_return:\n",
    "                # updating the number of cars at each location after cars have been returned\n",
    "                current_num_cars_loc1 = min(current_num_cars_loc1 + EXPECTED_FIRST_LOC_RETURNS, MAX_CARS)\n",
    "                current_num_cars_loc2 = min(current_num_cars_loc2 + EXPECTED_SECOND_LOC_RETURNS, MAX_CARS)\n",
    "                # calculating return\n",
    "                returns += rental_prob * (reward + DISCOUNT_RATE * state_value[current_num_cars_loc1, current_num_cars_loc2])\n",
    "            else:\n",
    "                for return_cars_loc1 in range(POISSON_UPPER_BOUND):\n",
    "                    for return_cars_loc2 in range(POISSON_UPPER_BOUND):\n",
    "                        return_prob = poisson(return_cars_loc1, EXPECTED_FIRST_LOC_RETURNS) * \\\n",
    "                                        poisson(return_cars_loc2, EXPECTED_SECOND_LOC_RETURNS)\n",
    "    \n",
    "                        # updating the number of cars at each location after cars have been returned\n",
    "                        current_num_cars_loc1 = min(current_num_cars_loc1 + return_cars_loc1, MAX_CARS)\n",
    "                        current_num_cars_loc2 = min(current_num_cars_loc2 + return_cars_loc2, MAX_CARS)\n",
    "    \n",
    "                        # calculating overall probability of this particular situation happening\n",
    "                        overall_prob = rental_prob * return_prob\n",
    "    \n",
    "                        # calculating return\n",
    "                        returns += overall_prob * (reward + DISCOUNT_RATE * state_value[current_num_cars_loc1, current_num_cars_loc2])\n",
    "\n",
    "    return returns"
   ]
  },
  {
   "cell_type": "code",
   "execution_count": 6,
   "id": "2e859bb3-ab5c-44a2-bdeb-90848062a7a1",
   "metadata": {},
   "outputs": [],
   "source": [
    "def policy_evaluation(state_value, policy, constant_return = False, theta=1e-8, verbose=True):\n",
    "    \"\"\"\n",
    "    args:\n",
    "        state_value:      current state_value function that maps each state to the expected return\n",
    "        policy:           a deterministic policy that maps from state to action\n",
    "        constant_return:  if True, returning car is not with respect to poission random variable\n",
    "        theta:            evaluation accuracy, default value if 1e-8\n",
    "        verbose:          prints out progress\n",
    "    returns:\n",
    "        state_value:      evaluated state_value function that maps each state to the expected return\n",
    "    \"\"\"\n",
    "    # initialize new state_value\n",
    "    new_state_value = state_value.copy()\n",
    "    \n",
    "    while True:\n",
    "        delta = 0\n",
    "        for state in states:\n",
    "            # old state_value for this particular state\n",
    "            v = new_state_value[state]\n",
    "            # updates new_state_value by one-step-lookahead\n",
    "            new_state_value[state] = expected_return(state, policy[state], new_state_value, constant_return)\n",
    "            # updates delta - shows the difference between old state_value and new one\n",
    "            delta = max(delta, abs(new_state_value[state] - v))\n",
    "            # if verbose is true\n",
    "            print(f'\\rState: [{state[0]:>3},{state[1]:>3}] Delta is {delta:10.2e}', end='')\n",
    "        if delta < theta:\n",
    "            return new_state_value"
   ]
  },
  {
   "cell_type": "code",
   "execution_count": 7,
   "id": "e1e33126-9a1e-4e39-b92a-f74f759af5b7",
   "metadata": {},
   "outputs": [],
   "source": [
    "def policy_improvement(state_value, policy, constant_return=False, verbose=True):\n",
    "    \"\"\"\n",
    "    This function updates policy\n",
    "    args:\n",
    "        state_value:      state_value function that maps each state to the expected return\n",
    "        policy:           a deterministic policy that maps from state to action\n",
    "        constant_return:  if True, returning car is not with respect to poission random variable\n",
    "        theta:            evaluation accuracy, default value if 1e-8\n",
    "    \"\"\"\n",
    "    for state in states:\n",
    "        new_action = 0\n",
    "        max_value = -np.inf\n",
    "        for action in actions:\n",
    "            action_value = expected_return(state, action, state_value, constant_return)\n",
    "            if action_value > max_value:\n",
    "                new_action = action\n",
    "                max_value = action_value\n",
    "\n",
    "        policy[state] = new_action\n",
    "\n",
    "        # Printing out the progress\n",
    "        if verbose:\n",
    "            print(f'\\rState: [{state[0]:>3},{state[1]:>3}]', end='')"
   ]
  },
  {
   "cell_type": "code",
   "execution_count": 8,
   "id": "6f870f6c-039e-47a0-a599-99b7b123aa84",
   "metadata": {},
   "outputs": [],
   "source": [
    "def policy_iteration(constant_return=False, theta=1e-8, verbose=True):\n",
    "    \"\"\"\n",
    "    args:\n",
    "        constant_return:  if True, returning car is not with respect to poission random variable\n",
    "        theta:            evaluation accuracy, default value if 1e-8\n",
    "        verbose:          prints out progress\n",
    "    returns:\n",
    "        state_value:      evaluated state_value function that maps each state to the expected return\n",
    "        policy:           a deterministic policy that maps from state to action\n",
    "    \"\"\"\n",
    "    \n",
    "    # initialize state_value\n",
    "    state_value = np.zeros((MAX_CARS + 1, MAX_CARS + 1), dtype=np.float32)\n",
    "    policy = np.zeros((MAX_CARS + 1, MAX_CARS + 1), dtype=np.int32)\n",
    "\n",
    "    while True:\n",
    "        # policy-evaluation\n",
    "        if verbose: print('Policy Evaluation')\n",
    "        state_value = policy_evaluation(state_value, policy, constant_return, theta, verbose)\n",
    "        old_policy = policy.copy()\n",
    "        # policy-improvement\n",
    "        if verbose: print('\\nPolicy Improvement')\n",
    "        policy_improvement(state_value, policy, constant_return, verbose)\n",
    "        if verbose: print()\n",
    "    \n",
    "        if np.array_equal(old_policy, policy): \n",
    "            return state_value, policy"
   ]
  },
  {
   "cell_type": "code",
   "execution_count": 9,
   "id": "9656bf1d-5b08-4e1d-9b90-d3e453af36b3",
   "metadata": {},
   "outputs": [
    {
     "name": "stdout",
     "output_type": "stream",
     "text": [
      "Policy Evaluation\n",
      "State: [ 20, 20] Delta is   0.00e+00\n",
      "Policy Improvement\n",
      "State: [ 20, 20]\n",
      "Policy Evaluation\n",
      "State: [ 20, 20] Delta is   0.00e+00\n",
      "Policy Improvement\n",
      "State: [ 20, 20]\n",
      "Policy Evaluation\n",
      "State: [ 20, 20] Delta is   0.00e+00\n",
      "Policy Improvement\n",
      "State: [ 20, 20]\n",
      "Policy Evaluation\n",
      "State: [ 20, 20] Delta is   0.00e+00\n",
      "Policy Improvement\n",
      "State: [ 20, 20]\n",
      "Policy Evaluation\n",
      "State: [ 20, 20] Delta is   0.00e+00\n",
      "Policy Improvement\n",
      "State: [ 20, 20]\n"
     ]
    }
   ],
   "source": [
    "state_value, policy = policy_iteration(constant_return=True, theta=1e-12)"
   ]
  },
  {
   "cell_type": "code",
   "execution_count": 10,
   "id": "5d5eeea3-b704-416c-bbb0-de2e25caa209",
   "metadata": {},
   "outputs": [
    {
     "data": {
      "text/plain": [
       "<matplotlib.colorbar.Colorbar at 0x7f7749033190>"
      ]
     },
     "execution_count": 10,
     "metadata": {},
     "output_type": "execute_result"
    },
    {
     "data": {
      "image/png": "[encoded data removed]",
      "text/plain": [
       "<Figure size 640x480 with 2 Axes>"
      ]
     },
     "metadata": {},
     "output_type": "display_data"
    }
   ],
   "source": [
    "# Create a contour plot with values displayed inside\n",
    "contour = plt.contour(policy, cmap='viridis')\n",
    "\n",
    "plt.colorbar()"
   ]
  },
  {
   "cell_type": "code",
   "execution_count": 11,
   "id": "eb818ce6-08e4-4146-8ff0-87d5eaf1b264",
   "metadata": {},
   "outputs": [
    {
     "name": "stdout",
     "output_type": "stream",
     "text": [
      "[[ 0  0  0  0 -1 -2 -2 -3 -3 -4 -4 -5 -5 -5 -5 -5 -5 -5 -5 -5 -5]\n",
      " [ 0  0  0  0 -1 -1 -2 -2 -3 -3 -4 -4 -5 -5 -5 -5 -5 -5 -5 -5 -5]\n",
      " [ 0  0  0  0  0 -1 -1 -2 -2 -3 -3 -4 -4 -4 -5 -5 -5 -5 -5 -5 -5]\n",
      " [ 0  1  0  0  0  0 -1 -1 -2 -2 -3 -3 -3 -4 -4 -4 -4 -5 -5 -5 -5]\n",
      " [ 2  1  1  1  0  0  0 -1 -1 -2 -2 -2 -3 -3 -3 -3 -4 -4 -4 -4 -4]\n",
      " [ 2  2  2  1  1  0  0  0 -1 -1 -1 -2 -2 -2 -2 -3 -3 -3 -3 -3 -3]\n",
      " [ 3  3  2  2  1  1  1  0  0  0 -1 -1 -1 -1 -2 -2 -2 -2 -2 -2 -2]\n",
      " [ 4  3  3  2  2  2  1  1  0  0  0  0  0 -1 -1 -1 -1 -1 -1 -1 -2]\n",
      " [ 4  4  3  3  3  2  2  1  1  0  0  0  0  0  0  0  0  0  0 -1 -1]\n",
      " [ 5  4  4  4  3  3  2  2  1  0  0  0  0  0  0  0  0  0  0  0  0]\n",
      " [ 5  5  5  4  4  3  3  2  1  1  0  0  0  0  0  0  0  0  0  0  0]\n",
      " [ 5  5  5  5  4  4  3  2  2  1  1  0  0  0  0  0  0  0  0  0  0]\n",
      " [ 5  5  5  5  5  4  3  3  2  2  1  0  0  0  0  0  0  0  0  0  0]\n",
      " [ 5  5  5  5  5  4  4  3  3  2  1  0  0  0  0  0  0  0  0  0  0]\n",
      " [ 5  5  5  5  5  5  4  4  3  2  1  0  0  0  0  0  0  0  0  0  0]\n",
      " [ 5  5  5  5  5  5  5  4  3  2  1  1  0  0  0  0  0  0  0  0  0]\n",
      " [ 5  5  5  5  5  5  5  4  3  2  2  1  0  0  0  0  0  0  0  0  0]\n",
      " [ 5  5  5  5  5  5  5  4  3  3  2  1  0  0  0  0  0  0  0  0  0]\n",
      " [ 5  5  5  5  5  5  5  4  4  3  2  1  1  1  1  1  1  0  0  0  0]\n",
      " [ 5  5  5  5  5  5  5  5  4  3  2  2  2  2  2  2  1  1  1  1  0]\n",
      " [ 5  5  5  5  5  5  5  5  4  3  3  3  3  3  3  2  2  2  2  1  0]]\n"
     ]
    }
   ],
   "source": [
    "print(policy)"
   ]
  },
  {
   "cell_type": "code",
   "execution_count": null,
   "id": "a1e6eadc-9c68-4d2c-bb1b-becb59064b9e",
   "metadata": {},
   "outputs": [],
   "source": []
  }
 ],
 "metadata": {
  "kernelspec": {
   "display_name": "Python 3 (ipykernel)",
   "language": "python",
   "name": "python3"
  },
  "language_info": {
   "codemirror_mode": {
    "name": "ipython",
    "version": 3
   },
   "file_extension": ".py",
   "mimetype": "text/x-python",
   "name": "python",
   "nbconvert_exporter": "python",
   "pygments_lexer": "ipython3",
   "version": "3.11.5"
  }
 },
 "nbformat": 4,
 "nbformat_minor": 5
}
