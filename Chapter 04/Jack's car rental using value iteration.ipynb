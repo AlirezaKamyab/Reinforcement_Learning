{
 "cells": [
  {
   "cell_type": "markdown",
   "id": "aa9b2e06-d4dc-4ceb-8a47-988665e9d69f",
   "metadata": {},
   "source": [
    "# Jack's car rental problem\n",
    "## Value iteration"
   ]
  },
  {
   "cell_type": "code",
   "execution_count": 1,
   "id": "0b47985e-bdf3-406f-8469-f4ae04f4d1e6",
   "metadata": {},
   "outputs": [],
   "source": [
    "import numpy as np\n",
    "from math import *\n",
    "import matplotlib.pyplot as plt"
   ]
  },
  {
   "cell_type": "code",
   "execution_count": 2,
   "id": "695175fe-cd46-4668-aa29-1343dedb707d",
   "metadata": {},
   "outputs": [],
   "source": [
    "MAX_CARS = 20\n",
    "MAX_MOVE_OF_CARS = 5\n",
    "EXPECTED_FIRST_LOC_REQUESTS = 3\n",
    "EXPECTED_SECOND_LOC_REQUESTS = 4\n",
    "EXPECTED_FIRST_LOC_RETURNS = 3\n",
    "EXPECTED_SECOND_LOC_RETURNS = 2\n",
    "DISCOUNT_RATE = 0.9\n",
    "RENTAL_CREDIT = 10\n",
    "COST_OF_MOVING = 2\n",
    "\n",
    "POISSON_UPPER_BOUND = 21"
   ]
  },
  {
   "cell_type": "code",
   "execution_count": 3,
   "id": "4106b1b9-9bd9-4b4a-9969-5a7fc31ca772",
   "metadata": {},
   "outputs": [],
   "source": [
    "# all of the state-pairs possible (i, j) for \"i\" showing the number of cars at location1, and \"j\" for location2\n",
    "states = [(i, j) for i in range(MAX_CARS + 1) for j in range(MAX_CARS + 1)]\n",
    "# every possible actions could be done\n",
    "actions = np.arange(-MAX_MOVE_OF_CARS, MAX_MOVE_OF_CARS + 1)"
   ]
  },
  {
   "cell_type": "code",
   "execution_count": 4,
   "id": "066bcfbc-209e-41c2-9b10-9ba30f1acfab",
   "metadata": {},
   "outputs": [],
   "source": [
    "# Calculate poisson distribution\n",
    "pBackup = dict()\n",
    "\n",
    "def poisson(x, lam):\n",
    "    global pBackup\n",
    "    key = x * 10 + lam\n",
    "    if key not in pBackup:\n",
    "        pBackup[key] = np.exp(-lam) * pow(lam, x) / factorial(x)\n",
    "    return pBackup[key]"
   ]
  },
  {
   "cell_type": "code",
   "execution_count": 5,
   "id": "d3f2eb81-4569-4f30-bd26-854f44720e95",
   "metadata": {},
   "outputs": [],
   "source": [
    "def expected_return(state, action, state_value, constant_return=False):\n",
    "    \"\"\"\n",
    "    args:\n",
    "        state:            [# number of cars at first location, number of cars at second location]\n",
    "        action:           # number of cars to move from location1 to  location2 (if negative it is vise-vera)\n",
    "        state_value:      evaluated state_value function that maps each state to the expected return\n",
    "        constant_return:  if True, returning car is not with respect to poission random variable\n",
    "    returns:\n",
    "        q(s, a) - this is same as action_value function\n",
    "    \"\"\"\n",
    "    # cost of moving cars is applied here (See the notes at the end of the notebook, NOTE1)\n",
    "    returns = -COST_OF_MOVING * np.abs(action)\n",
    "    # applying the action to the state\n",
    "    LOCATION1, LOCATION2 = state\n",
    "    LOCATION1, LOCATION2 = min(LOCATION1 - action, MAX_CARS), min(LOCATION2 + action, MAX_CARS)\n",
    "\n",
    "    # taking into account the enivronment dynamics\n",
    "    for req_loc1 in range(LOCATION1 + 1):\n",
    "        for req_loc2 in range(LOCATION2 + 1):\n",
    "            # applying rent requests\n",
    "            after_req_loc1, after_req_loc2 = LOCATION1 - req_loc1, LOCATION2 - req_loc2\n",
    "            # calculating this particular request happening\n",
    "            req_prob = poisson(req_loc1, EXPECTED_FIRST_LOC_REQUESTS) * poisson(req_loc2, EXPECTED_SECOND_LOC_REQUESTS)\n",
    "            # calculating reward\n",
    "            reward = RENTAL_CREDIT * (req_loc1 + req_loc2)\n",
    "\n",
    "            # calculating for returns\n",
    "            if constant_return:\n",
    "                # returns are constants\n",
    "                after_ret_loc1 = min(MAX_CARS, after_req_loc1 + EXPECTED_FIRST_LOC_RETURNS)\n",
    "                after_ret_loc2 = min(MAX_CARS, after_req_loc2 + EXPECTED_SECOND_LOC_RETURNS)\n",
    "\n",
    "                # Calculating return for this particular situation (See the notes at the end of the notebook, NOTE2)\n",
    "                returns += req_prob * (reward + DISCOUNT_RATE * state_value[after_ret_loc1, after_ret_loc2])\n",
    "            else:\n",
    "                for ret_loc1 in range(POISSON_UPPER_BOUND):\n",
    "                    for ret_loc2 in range(POISSON_UPPER_BOUND):\n",
    "                        # applying returns\n",
    "                        after_ret_loc1 = min(MAX_CARS, after_req_loc1 + ret_loc1)\n",
    "                        after_ret_loc2 = min(MAX_CARS, after_req_loc2 + ret_loc2)\n",
    "                        # calculating this particular return happening\n",
    "                        ret_prob = poisson(ret_loc1, EXPECTED_FIRST_LOC_RETURNS) * poisson(ret_loc2, EXPECTED_SECOND_LOC_RETURNS)\n",
    "\n",
    "                        # Calculating return for this particular situation (See the notes at the end of the notebook, NOTE2)\n",
    "                        returns += ret_prob * req_prob * (reward + DISCOUNT_RATE * state_value[after_ret_loc1, after_ret_loc2])\n",
    "\n",
    "    return returns"
   ]
  },
  {
   "cell_type": "code",
   "execution_count": 6,
   "id": "bffc326e-1849-425a-8ea1-6bd07a3e69e1",
   "metadata": {},
   "outputs": [],
   "source": [
    "def value_iteration(constant_return = False, theta=1e-8, verbose=True):\n",
    "    \"\"\"\n",
    "        constant_return:  if True, returning car is not with respect to poission random variable\n",
    "        theta:            evaluation accuracy, default value if 1e-8\n",
    "        verbose:          prints out progress\n",
    "    returns:\n",
    "        state_value:      evaluated state_value function that maps each state to the expected return\n",
    "    \"\"\"\n",
    "    state_value = np.zeros((MAX_CARS + 1, MAX_CARS + 1), dtype=np.float64)\n",
    "    sweep = 0\n",
    "    while True:\n",
    "        old_state_value = state_value.copy()\n",
    "        for state in states:\n",
    "            state_value[state] = np.max([expected_return(state, action, state_value, constant_return) for action in actions])\n",
    "        delta = np.abs(state_value - old_state_value).max()\n",
    "        sweep += 1\n",
    "        if verbose:\n",
    "            print(f'\\rSweep {sweep:>3} delta is {delta:0.3e}', end='')\n",
    "        if delta < theta:\n",
    "            policy = np.zeros((MAX_CARS + 1, MAX_CARS + 1), dtype=np.int32)\n",
    "            for state in states:\n",
    "                max_expected_return = None\n",
    "                best_action = 0\n",
    "                for action in actions:\n",
    "                    q = expected_return(state, action, state_value, constant_return)\n",
    "                    if max_expected_return is None or max_expected_return < q:\n",
    "                        best_action = action\n",
    "                        max_expected_return = q\n",
    "                policy[state] = best_action\n",
    "            return state_value, policy\n"
   ]
  },
  {
   "cell_type": "code",
   "execution_count": 7,
   "id": "52606fdc-3801-480b-9be1-deceb626cc5f",
   "metadata": {},
   "outputs": [
    {
     "name": "stdout",
     "output_type": "stream",
     "text": [
      "Sweep  37 delta is 8.941e-09"
     ]
    }
   ],
   "source": [
    "state_value, policy = value_iteration(constant_return=True)"
   ]
  },
  {
   "cell_type": "code",
   "execution_count": 8,
   "id": "ac9c9d07-3248-467e-9953-d35828ff94b6",
   "metadata": {},
   "outputs": [
    {
     "data": {
      "text/plain": [
       "<matplotlib.contour.QuadContourSet at 0x7f6de4272790>"
      ]
     },
     "execution_count": 8,
     "metadata": {},
     "output_type": "execute_result"
    },
    {
     "data": {
      "image/png": "[encoded data removed]",
      "text/plain": [
       "<Figure size 640x480 with 1 Axes>"
      ]
     },
     "metadata": {},
     "output_type": "display_data"
    }
   ],
   "source": [
    "plt.contourf(policy)"
   ]
  },
  {
   "cell_type": "code",
   "execution_count": 9,
   "id": "7beccd0e-82dc-47c7-b9cf-11cfa1154e58",
   "metadata": {},
   "outputs": [
    {
     "name": "stdout",
     "output_type": "stream",
     "text": [
      "[[ 0  0  0  0 -1 -2 -2 -3 -3 -4 -4 -5 -5 -5 -5 -5 -5 -5 -5 -5 -5]\n",
      " [ 0  0  0  0 -1 -1 -2 -2 -3 -3 -4 -4 -5 -5 -5 -5 -5 -5 -5 -5 -5]\n",
      " [ 0  0  0  0  0 -1 -1 -2 -2 -3 -3 -4 -4 -4 -5 -5 -5 -5 -5 -5 -5]\n",
      " [ 0  1  0  0  0  0 -1 -1 -2 -2 -3 -3 -3 -4 -4 -4 -4 -5 -5 -5 -5]\n",
      " [ 2  1  1  1  0  0  0 -1 -1 -2 -2 -2 -3 -3 -3 -3 -4 -4 -4 -4 -4]\n",
      " [ 2  2  2  1  1  0  0  0 -1 -1 -1 -2 -2 -2 -2 -3 -3 -3 -3 -3 -3]\n",
      " [ 3  3  2  2  1  1  1  0  0  0 -1 -1 -1 -1 -2 -2 -2 -2 -2 -2 -2]\n",
      " [ 4  3  3  2  2  2  1  1  0  0  0  0  0 -1 -1 -1 -1 -1 -1 -1 -2]\n",
      " [ 4  4  3  3  3  2  2  1  1  0  0  0  0  0  0  0  0  0  0 -1 -1]\n",
      " [ 5  4  4  4  3  3  2  2  1  0  0  0  0  0  0  0  0  0  0  0  0]\n",
      " [ 5  5  5  4  4  3  3  2  1  1  0  0  0  0  0  0  0  0  0  0  0]\n",
      " [ 5  5  5  5  4  4  3  2  2  1  1  0  0  0  0  0  0  0  0  0  0]\n",
      " [ 5  5  5  5  5  4  3  3  2  2  1  0  0  0  0  0  0  0  0  0  0]\n",
      " [ 5  5  5  5  5  4  4  3  3  2  1  0  0  0  0  0  0  0  0  0  0]\n",
      " [ 5  5  5  5  5  5  4  4  3  2  1  0  0  0  0  0  0  0  0  0  0]\n",
      " [ 5  5  5  5  5  5  5  4  3  2  1  1  0  0  0  0  0  0  0  0  0]\n",
      " [ 5  5  5  5  5  5  5  4  3  2  2  1  0  0  0  0  0  0  0  0  0]\n",
      " [ 5  5  5  5  5  5  5  4  3  3  2  1  0  0  0  0  0  0  0  0  0]\n",
      " [ 5  5  5  5  5  5  5  4  4  3  2  1  1  1  1  1  1  0  0  0  0]\n",
      " [ 5  5  5  5  5  5  5  5  4  3  2  2  2  2  2  2  1  1  1  1  0]\n",
      " [ 5  5  5  5  5  5  5  5  4  3  3  3  3  3  3  2  2  2  2  1  0]]\n"
     ]
    }
   ],
   "source": [
    "print(policy)"
   ]
  },
  {
   "cell_type": "markdown",
   "id": "ed3d8bcb-350e-407b-be31-921f0424aab0",
   "metadata": {},
   "source": [
    "- NOTE1: Mainly we write $q_\\pi(s, a) = \\sum_{s^\\prime, r}p(s^\\prime, r | s, a)\\big[r + \\gamma v_\\pi(s^\\prime)\\big]$ as the expected return formula. However we are adding a part of the reward at the very first, since it is constant reward for doing some action and even if we put it together with ```reward``` calculated with the code (action_reward + reward) it would have been the same.\n",
    "- NOTE2: Expected return is actually $q_\\pi(s, a)$ given that we are in state $s$ and we are doing action $a$; we want to know what the return will be.<br>\n",
    "If we do some action then environment might act stochastically, in this case, renting and returning is what environment is supposed to do. So we average over the return of each future state."
   ]
  }
 ],
 "metadata": {
  "kernelspec": {
   "display_name": "Python 3 (ipykernel)",
   "language": "python",
   "name": "python3"
  },
  "language_info": {
   "codemirror_mode": {
    "name": "ipython",
    "version": 3
   },
   "file_extension": ".py",
   "mimetype": "text/x-python",
   "name": "python",
   "nbconvert_exporter": "python",
   "pygments_lexer": "ipython3",
   "version": "3.11.5"
  }
 },
 "nbformat": 4,
 "nbformat_minor": 5
}
