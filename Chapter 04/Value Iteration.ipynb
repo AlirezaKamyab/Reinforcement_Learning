{
 "cells": [
  {
   "cell_type": "markdown",
   "id": "2df1ffda-e7bd-48e1-b59d-2943548ce6f2",
   "metadata": {},
   "source": [
    "# Value Iteration\n",
    "## Gambler's Problem"
   ]
  },
  {
   "cell_type": "code",
   "execution_count": 1,
   "id": "b1ae650a-cc87-422a-adae-a9e12746dd94",
   "metadata": {},
   "outputs": [],
   "source": [
    "import numpy as np\n",
    "from math import *\n",
    "import matplotlib.pyplot as plt"
   ]
  },
  {
   "cell_type": "code",
   "execution_count": 2,
   "id": "3f42372b-6030-4f63-a11f-396ec4a28689",
   "metadata": {},
   "outputs": [],
   "source": [
    "# Declaring initial CONSTANTS\n",
    "GOAL = 100\n",
    "PH = 0.4\n",
    "DISCOUNT = 1.0\n",
    "GOAL_REACHED_REWARD = 1.0"
   ]
  },
  {
   "cell_type": "code",
   "execution_count": 3,
   "id": "2a684945-ea87-4a49-bc8d-6df300e3a9d4",
   "metadata": {},
   "outputs": [],
   "source": [
    "# defining all of the states\n",
    "states = np.arange(0, GOAL + 1, dtype=np.int32)\n",
    "\n",
    "# defining actions for a given state\n",
    "def actions(state):\n",
    "    return np.arange(0, min(state, GOAL - state) + 1)"
   ]
  },
  {
   "cell_type": "markdown",
   "id": "3f2c47a1-9902-4e54-b0cd-cbc8984c0514",
   "metadata": {},
   "source": [
    "Expected return is the implementation of $q_\\pi(s, a)$.<br>\n",
    "Review:\n",
    "$$\n",
    "\\begin{align}\n",
    "    q_\\pi(s, a) &= \\mathbb{E}_\\pi\\big[r + \\gamma v_\\pi(s^\\prime)\\big]\\\\\n",
    "    &= \\sum_{a}\\pi(a|s)\\sum_{s^\\prime, r} p(s^\\prime, r | s, a) \\big[r + \\gamma v_\\pi(s^\\prime)\\big]\\\\\n",
    "    &= \\sum_{s^\\prime, r} p(s^\\prime, r | s, a) \\big[r + \\gamma v_\\pi(s^\\prime)\\big] & \\text{Given we have deterministic actions}\n",
    "\\end{align}\n",
    "$$"
   ]
  },
  {
   "cell_type": "code",
   "execution_count": 4,
   "id": "4c25ea2d-e2f7-48b4-ae85-d2357deac18e",
   "metadata": {},
   "outputs": [],
   "source": [
    "def expected_return(state, action, state_value):\n",
    "    \"\"\"\n",
    "    args:\n",
    "        state:        current state as a number of capitals\n",
    "        action:       the amount to stack\n",
    "        state_value:  state_value function that maps state to the return\n",
    "    returns:\n",
    "        returns:      the expected value to get if we take \"action\" and follow policy of state_value\n",
    "    \"\"\"\n",
    "    returns = 0.0\n",
    "    # if it is heads\n",
    "    new_state = state + action\n",
    "    reward = GOAL_REACHED_REWARD if new_state == GOAL else 0.0\n",
    "    returns += PH * (reward + DISCOUNT * state_value[new_state])\n",
    "\n",
    "    # if it is tails\n",
    "    new_state = state - action\n",
    "    reward = 0\n",
    "    returns += (1 - PH) * (reward + DISCOUNT * state_value[new_state])\n",
    "\n",
    "    return returns"
   ]
  },
  {
   "cell_type": "markdown",
   "id": "0a4fe80e-e0ab-4665-8bc6-fb05cccf2c78",
   "metadata": {},
   "source": [
    "One of the draw backs of policy iteration is that we need to do the policy-iteration step which it self needs to be done in the limit so to converge. However it is not needed; we can stop the policy-iteration after just one sweep (so each state is updated only once). This is called **value iteration**.\n",
    "$$\n",
    "\\begin{align}\n",
    "    v_{k+1}\\  &\\dot{=} \\  \\underset{a}{max} \\ \\mathbb{E}\\big[R_{t+1} + \\gamma v_k(S_{t+1}) | S_t=s, A_t=a\\big]\\\\\n",
    "    &= \\underset{a}{max}\\ \\sum_{s^\\prime, r} p(s^\\prime, r | s, a)\\bigg[r + \\gamma v_k(s^\\prime)\\bigg]\\\\\n",
    "    &= q_k(s, a) & \\text{Given above formula}\n",
    "\\end{align}\n",
    "$$\n",
    "<br>\n",
    "Above we have defined $q_k(s, a)$ as ```expected_return(state, action, state_value)```"
   ]
  },
  {
   "cell_type": "code",
   "execution_count": 5,
   "id": "d381e601-9021-4264-9d13-be2ddcda66d0",
   "metadata": {},
   "outputs": [],
   "source": [
    "def value_iteration(theta=1e-18, verbose=True):\n",
    "    \"\"\"\n",
    "    args:\n",
    "        theta:           the accuracy to estimate state_value\n",
    "        verbose:         prints out progress\n",
    "    returns:\n",
    "        state_value:     estimated optimal state_value\n",
    "        policy:          optimal policy given by state_value\n",
    "        sweep_hist:      gives a list of state_values over each sweep\n",
    "    \"\"\"\n",
    "    # initializes state_values\n",
    "    state_value = np.zeros((GOAL + 1), dtype=np.float64)\n",
    "    # initializes history\n",
    "    sweep_hist = []\n",
    "    while True:\n",
    "        # save the old value to compare it with the new state_value\n",
    "        old_state_value = state_value.copy()\n",
    "        for state in states[1:GOAL]:\n",
    "            # as the formula above states, we are choosing the maximum value given by an action to find optimal state_value\n",
    "            state_value[state] = np.max([expected_return(state, action, state_value) for action in actions(state)])\n",
    "        # calculates the difference between old state_value and the new one\n",
    "        delta = np.abs(state_value - old_state_value).max()\n",
    "        # store the new state_value as history\n",
    "        sweep_hist.append(state_value.copy())\n",
    "        # prints out progress\n",
    "        if verbose:\n",
    "            print(f'\\rSweep {len(sweep_hist):<3}, delta is {delta:0.3e}', end='')\n",
    "        # check if difference is smaller than theta\n",
    "        if delta < theta:\n",
    "            # initialize policy\n",
    "            policy = np.zeros((GOAL + 1,),dtype=np.int32)\n",
    "            # for each state find the optimal policy\n",
    "            for state in states[1:GOAL]:\n",
    "                action_returns = []\n",
    "                for action in actions(state):\n",
    "                    action_returns.append(expected_return(state, action, state_value))\n",
    "                    # note that np.round is used to have policy the same as Figure 4.3 (Chapter4 Reinforcement learning)\n",
    "                policy[state] = np.argmax(np.round(action_returns[1:], 5)) + 1\n",
    "            return state_value, policy, sweep_hist"
   ]
  },
  {
   "cell_type": "code",
   "execution_count": 6,
   "id": "706e6106-905e-4176-85e7-5a6e8b4ec261",
   "metadata": {},
   "outputs": [
    {
     "name": "stdout",
     "output_type": "stream",
     "text": [
      "Sweep 32 , delta is 4.337e-19"
     ]
    }
   ],
   "source": [
    "state_value, policy, sweep_history = value_iteration()"
   ]
  },
  {
   "cell_type": "code",
   "execution_count": 7,
   "id": "56ad83e3-9a4b-487d-88ce-154eae77c08c",
   "metadata": {},
   "outputs": [
    {
     "data": {
      "image/png": "[encoded data removed]",
      "text/plain": [
       "<Figure size 640x480 with 1 Axes>"
      ]
     },
     "metadata": {},
     "output_type": "display_data"
    }
   ],
   "source": [
    "for i, hist in enumerate(sweep_history):\n",
    "    plt.plot(range(hist.size - 1), hist[:-1], label=f'sweep{i}')"
   ]
  },
  {
   "cell_type": "code",
   "execution_count": 8,
   "id": "20ee68f9-febb-4020-9504-d72225ea6464",
   "metadata": {},
   "outputs": [
    {
     "data": {
      "image/png": "[encoded data removed]",
      "text/plain": [
       "<Figure size 640x480 with 1 Axes>"
      ]
     },
     "metadata": {},
     "output_type": "display_data"
    }
   ],
   "source": [
    "plt.bar(range(policy.size), policy);"
   ]
  }
 ],
 "metadata": {
  "kernelspec": {
   "display_name": "Python 3 (ipykernel)",
   "language": "python",
   "name": "python3"
  },
  "language_info": {
   "codemirror_mode": {
    "name": "ipython",
    "version": 3
   },
   "file_extension": ".py",
   "mimetype": "text/x-python",
   "name": "python",
   "nbconvert_exporter": "python",
   "pygments_lexer": "ipython3",
   "version": "3.11.5"
  }
 },
 "nbformat": 4,
 "nbformat_minor": 5
}
